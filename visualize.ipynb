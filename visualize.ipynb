{
 "cells": [
  {
   "cell_type": "code",
   "execution_count": 1,
   "metadata": {},
   "outputs": [],
   "source": [
    "import pandas as pd\n",
    "import numpy as np\n",
    "import re\n",
    "import matplotlib.pyplot as plt"
   ]
  },
  {
   "cell_type": "code",
   "execution_count": 2,
   "metadata": {},
   "outputs": [],
   "source": [
    "sentences = []\n",
    "output = []\n",
    "fileName = 'caltech.csv'\n",
    "df = pd.read_csv(fileName, header=None, sep=u\",\", index_col=None)\n",
    "cols = df[1].tolist()"
   ]
  },
  {
   "cell_type": "code",
   "execution_count": 3,
   "metadata": {},
   "outputs": [
    {
     "name": "stdout",
     "output_type": "stream",
     "text": [
      "                    0                                                  1\n",
      "0  2/10/2019 20:09:27  I've been fantasizing about my Chem 1b TA a lo...\n",
      "1   2/11/2019 4:16:57  I should really elaborate on this but it would...\n",
      "2  2/11/2019 11:46:07  My PE is my favorite class of the term and als...\n",
      "3  2/11/2019 11:50:03  i've been getting through my classes through s...\n",
      "4   2/21/2019 6:08:28  What's the diff between fundamental rights vs ...\n",
      "200\n"
     ]
    }
   ],
   "source": [
    "print(df.head())\n",
    "\n",
    "print(len(df))"
   ]
  },
  {
   "cell_type": "code",
   "execution_count": 4,
   "metadata": {},
   "outputs": [
    {
     "data": {
      "text/plain": [
       "200"
      ]
     },
     "execution_count": 4,
     "metadata": {},
     "output_type": "execute_result"
    }
   ],
   "source": [
    "\n",
    "len(cols)"
   ]
  },
  {
   "cell_type": "code",
   "execution_count": 14,
   "metadata": {},
   "outputs": [
    {
     "data": {
      "text/html": [
       "<div>\n",
       "<style scoped>\n",
       "    .dataframe tbody tr th:only-of-type {\n",
       "        vertical-align: middle;\n",
       "    }\n",
       "\n",
       "    .dataframe tbody tr th {\n",
       "        vertical-align: top;\n",
       "    }\n",
       "\n",
       "    .dataframe thead th {\n",
       "        text-align: right;\n",
       "    }\n",
       "</style>\n",
       "<table border=\"1\" class=\"dataframe\">\n",
       "  <thead>\n",
       "    <tr style=\"text-align: right;\">\n",
       "      <th></th>\n",
       "      <th>confession</th>\n",
       "      <th>compound</th>\n",
       "      <th>positive</th>\n",
       "      <th>negative</th>\n",
       "      <th>neutral</th>\n",
       "      <th>timestamp</th>\n",
       "    </tr>\n",
       "  </thead>\n",
       "  <tbody>\n",
       "    <tr>\n",
       "      <th>0</th>\n",
       "      <td>I've been fantasizing about my Chem 1b TA a lo...</td>\n",
       "      <td>0.0000</td>\n",
       "      <td>0.000</td>\n",
       "      <td>0.000</td>\n",
       "      <td>1.000</td>\n",
       "      <td>2/10/19 20:09</td>\n",
       "    </tr>\n",
       "    <tr>\n",
       "      <th>1</th>\n",
       "      <td>I should really elaborate on this but it would...</td>\n",
       "      <td>0.0387</td>\n",
       "      <td>0.109</td>\n",
       "      <td>0.105</td>\n",
       "      <td>0.786</td>\n",
       "      <td>2/11/19 4:16</td>\n",
       "    </tr>\n",
       "    <tr>\n",
       "      <th>2</th>\n",
       "      <td>My PE is my favorite class of the term and als...</td>\n",
       "      <td>0.4588</td>\n",
       "      <td>0.125</td>\n",
       "      <td>0.000</td>\n",
       "      <td>0.875</td>\n",
       "      <td>2/11/19 11:46</td>\n",
       "    </tr>\n",
       "    <tr>\n",
       "      <th>3</th>\n",
       "      <td>i've been getting through my classes through s...</td>\n",
       "      <td>0.7871</td>\n",
       "      <td>0.151</td>\n",
       "      <td>0.036</td>\n",
       "      <td>0.813</td>\n",
       "      <td>2/11/19 11:50</td>\n",
       "    </tr>\n",
       "    <tr>\n",
       "      <th>4</th>\n",
       "      <td>What's the diff between fundamental rights vs ...</td>\n",
       "      <td>0.0000</td>\n",
       "      <td>0.000</td>\n",
       "      <td>0.000</td>\n",
       "      <td>1.000</td>\n",
       "      <td>2/21/19 6:08</td>\n",
       "    </tr>\n",
       "  </tbody>\n",
       "</table>\n",
       "</div>"
      ],
      "text/plain": [
       "                                          confession  compound  positive  \\\n",
       "0  I've been fantasizing about my Chem 1b TA a lo...    0.0000     0.000   \n",
       "1  I should really elaborate on this but it would...    0.0387     0.109   \n",
       "2  My PE is my favorite class of the term and als...    0.4588     0.125   \n",
       "3  i've been getting through my classes through s...    0.7871     0.151   \n",
       "4  What's the diff between fundamental rights vs ...    0.0000     0.000   \n",
       "\n",
       "   negative  neutral      timestamp  \n",
       "0     0.000    1.000  2/10/19 20:09  \n",
       "1     0.105    0.786   2/11/19 4:16  \n",
       "2     0.000    0.875  2/11/19 11:46  \n",
       "3     0.036    0.813  2/11/19 11:50  \n",
       "4     0.000    1.000   2/21/19 6:08  "
      ]
     },
     "execution_count": 14,
     "metadata": {},
     "output_type": "execute_result"
    }
   ],
   "source": [
    "fileName = \"out.csv\"\n",
    "df = pd.read_csv(fileName, header=0, sep=u\",\", index_col = None, encoding=\"ISO-8859-1\")\n",
    "df.head()"
   ]
  },
  {
   "cell_type": "code",
   "execution_count": 29,
   "metadata": {},
   "outputs": [
    {
     "data": {
      "image/png": "[encoded data removed]",
      "text/plain": [
       "<Figure size 432x288 with 1 Axes>"
      ]
     },
     "metadata": {},
     "output_type": "display_data"
    }
   ],
   "source": [
    "timestamps = df[\"timestamp\"].tolist()\n",
    "scores = df[\"compound\"].tolist()\n",
    "from scipy.signal import savgol_filter\n",
    "yhat = savgol_filter(scores, 15, 2) # window size 51, polynomial order 3\n",
    "# y = np.sin(x) + np.random.random(100) * 0.2\n",
    "# yhat = savitzky_golay(scores, 51, 3) # window size 51, polynomial order 3\n",
    "plt.plot(timestamps, yhat)\n",
    "plt.title(\"Sentiment score vs. Timestamp\")\n",
    "plt.show()"
   ]
  },
  {
   "cell_type": "code",
   "execution_count": null,
   "metadata": {},
   "outputs": [],
   "source": []
  }
 ],
 "metadata": {
  "kernelspec": {
   "display_name": "Python 3",
   "language": "python",
   "name": "python3"
  },
  "language_info": {
   "codemirror_mode": {
    "name": "ipython",
    "version": 3
   },
   "file_extension": ".py",
   "mimetype": "text/x-python",
   "name": "python",
   "nbconvert_exporter": "python",
   "pygments_lexer": "ipython3",
   "version": "3.6.7"
  }
 },
 "nbformat": 4,
 "nbformat_minor": 2
}
